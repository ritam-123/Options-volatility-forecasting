{
 "cells": [
  {
   "cell_type": "code",
   "execution_count": null,
   "id": "427f74ee",
   "metadata": {},
   "outputs": [
    {
     "ename": "ModuleNotFoundError",
     "evalue": "No module named 'src'",
     "output_type": "error",
     "traceback": [
      "\u001b[31m---------------------------------------------------------------------------\u001b[39m",
      "\u001b[31mModuleNotFoundError\u001b[39m                       Traceback (most recent call last)",
      "\u001b[36mCell\u001b[39m\u001b[36m \u001b[39m\u001b[32mIn[1]\u001b[39m\u001b[32m, line 1\u001b[39m\n\u001b[32m----> \u001b[39m\u001b[32m1\u001b[39m \u001b[38;5;28;01mfrom\u001b[39;00m\u001b[38;5;250m \u001b[39m\u001b[34;01msrc\u001b[39;00m\u001b[34;01m.\u001b[39;00m\u001b[34;01mblack_scholes\u001b[39;00m\u001b[38;5;250m \u001b[39m\u001b[38;5;28;01mimport\u001b[39;00m blck_scholes_call, black_scholes_put\n\u001b[32m      3\u001b[39m call=black_scholes_call(S=\u001b[32m100\u001b[39m,K=\u001b[32m107\u001b[39m,T=\u001b[32m0.5\u001b[39m,r=\u001b[32m0.05\u001b[39m,sigma=\u001b[32m0.2\u001b[39m)\n\u001b[32m      4\u001b[39m put=black_scholes_call(S=\u001b[32m100\u001b[39m,K=\u001b[32m107\u001b[39m,T=\u001b[32m0.5\u001b[39m,r=\u001b[32m0.05\u001b[39m,sigma=\u001b[32m0.2\u001b[39m)\n",
      "\u001b[31mModuleNotFoundError\u001b[39m: No module named 'src'"
     ]
    }
   ],
   "source": [
    "import sys\n",
    "sys.path.append('../src')\n",
    "\n",
    "from src.black_scholes import blck_scholes_call, black_scholes_put\n",
    "\n",
    "call=black_scholes_call(S=100,K=107,T=0.5,r=0.05,sigma=0.2)\n",
    "put=black_scholes_call(S=100,K=107,T=0.5,r=0.05,sigma=0.2)\n",
    "\n",
    "print(f\"Call price :{call:.2f}\")\n",
    "print(f\"Put price :{put:.2f}\")"
   ]
  }
 ],
 "metadata": {
  "kernelspec": {
   "display_name": "Python 3",
   "language": "python",
   "name": "python3"
  },
  "language_info": {
   "codemirror_mode": {
    "name": "ipython",
    "version": 3
   },
   "file_extension": ".py",
   "mimetype": "text/x-python",
   "name": "python",
   "nbconvert_exporter": "python",
   "pygments_lexer": "ipython3",
   "version": "3.13.5"
  }
 },
 "nbformat": 4,
 "nbformat_minor": 5
}
