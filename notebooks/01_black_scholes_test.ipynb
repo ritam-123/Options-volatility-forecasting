{
 "cells": [
  {
   "cell_type": "code",
   "execution_count": 1,
   "id": "427f74ee",
   "metadata": {},
   "outputs": [
    {
     "name": "stdout",
     "output_type": "stream",
     "text": [
      "Call price : 3.84\n",
      "Put price  : 8.20\n"
     ]
    }
   ],
   "source": [
    "import sys\n",
    "import os\n",
    "\n",
    "\n",
    "project_root = os.path.abspath(os.path.join(os.getcwd(), '..'))  # if notebook is in notebooks/\n",
    "src_path = os.path.join(project_root, 'src')\n",
    "sys.path.append(src_path)\n",
    "\n",
    "from black_scholes import black_scholes_calls, black_scholes_puts\n",
    "\n",
    "\n",
    "call = black_scholes_calls(S=100, K=107, T=0.5, r=0.05, sigma=0.2)\n",
    "put = black_scholes_puts(S=100, K=107, T=0.5, r=0.05, sigma=0.2)\n",
    "\n",
    "print(f\"Call price : {call:.2f}\")\n",
    "print(f\"Put price  : {put:.2f}\")\n"
   ]
  }
 ],
 "metadata": {
  "kernelspec": {
   "display_name": "Python 3",
   "language": "python",
   "name": "python3"
  },
  "language_info": {
   "codemirror_mode": {
    "name": "ipython",
    "version": 3
   },
   "file_extension": ".py",
   "mimetype": "text/x-python",
   "name": "python",
   "nbconvert_exporter": "python",
   "pygments_lexer": "ipython3",
   "version": "3.13.5"
  }
 },
 "nbformat": 4,
 "nbformat_minor": 5
}
